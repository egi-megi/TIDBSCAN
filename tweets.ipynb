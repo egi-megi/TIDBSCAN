{
 "cells": [
  {
   "cell_type": "markdown",
   "metadata": {
    "pycharm": {
     "name": "#%%\n"
    }
   },
   "source": [
    "### Import all necessary files"
   ]
  },
  {
   "cell_type": "code",
   "execution_count": 1,
   "metadata": {
    "pycharm": {
     "name": "#%%\n"
    }
   },
   "outputs": [
    {
     "name": "stdout",
     "output_type": "stream",
     "text": [
      "[ 0  0  0  1  1  1  1  2  2  2  2 -1  2  1  1  2  2  2  0]\n",
      "DBSCAN(eps=4, min_samples=3)\n"
     ]
    }
   ],
   "source": [
    "import matplotlib.pyplot as plt\n",
    "from tweets import *\n",
    "from evaluation import *\n",
    "\n",
    "precomputedDataToRead = ['dbscan_11x50.data', 'tidbscan_11x50.data', 'tidbscan_11xall.data', 'teee.data']\n",
    "ALGORYTHMS = {0:'dbscan', 1:'dbscan_sklearn', 2:'tidbscan', 3: 'swdbscan', 4:'sw_tidbscan'}\n",
    "\n",
    "chosen_algorythm = 0"
   ]
  },
  {
   "cell_type": "markdown",
   "metadata": {
    "pycharm": {
     "name": "#%% md\n"
    }
   },
   "source": [
    "### 0 Read earlier computed data"
   ]
  },
  {
   "cell_type": "code",
   "execution_count": null,
   "metadata": {
    "pycharm": {
     "name": "#%%\n"
    }
   },
   "outputs": [],
   "source": [
    "# Read choosen dataset and go straight to -> 4 Results <-\n",
    "d = read_computed_data(precomputedDataToRead[3])\n",
    "tweets, class_vector, tweet_vector, results, epsilon_start, epsilon_end, n, distances = d\n",
    "# Read choosen dataset and go straight to -> 4 Results <-"
   ]
  },
  {
   "cell_type": "markdown",
   "metadata": {
    "pycharm": {
     "name": "#%% md\n"
    }
   },
   "source": [
    "### 1 Get vectors from table of tweets"
   ]
  },
  {
   "cell_type": "code",
   "execution_count": 2,
   "metadata": {
    "pycharm": {
     "name": "#%%\n"
    }
   },
   "outputs": [],
   "source": [
    "# DBSCAN set True, TIDBSCAN set False\n",
    "tweets, class_vector = read_n_tweets_from_data(DATA, 50) # Provide number of tweets per account\n",
    "tweet_vector = np.array(get_vectors(tweets))"
   ]
  },
  {
   "cell_type": "markdown",
   "metadata": {
    "pycharm": {
     "name": "#%% md\n"
    }
   },
   "source": [
    "### 2 Find out epsilon\n",
    "Find out epsilon by looking at distribution of max, min, median euclidean distances between all points."
   ]
  },
  {
   "cell_type": "code",
   "execution_count": 3,
   "metadata": {
    "pycharm": {
     "name": "#%%\n"
    }
   },
   "outputs": [
    {
     "name": "stdout",
     "output_type": "stream",
     "text": [
      "CPU times: user 3 µs, sys: 1e+03 ns, total: 4 µs\n",
      "Wall time: 7.63 µs\n"
     ]
    }
   ],
   "source": [
    "%%time\n",
    "distances = None\n",
    "# distances = create_and_save_distances_list(tweet_vector, save=False) # Compute distances\n",
    "# # distances = read_distances_list() # Read previously computed distances\n",
    "# minimum, median, maximum = get_basic_statistics(distances)\n",
    "# plot_basic_statistics(minimum, median, maximum)"
   ]
  },
  {
   "cell_type": "markdown",
   "metadata": {
    "pycharm": {
     "name": "#%% md\n"
    }
   },
   "source": [
    "### 3 Group vectors for multiple epsilon\n",
    "Now after analyzing distribution of distances between points\n",
    "do clustering n times for epsilon_start and delta_epsilon parameters"
   ]
  },
  {
   "cell_type": "code",
   "execution_count": 4,
   "metadata": {
    "pycharm": {
     "name": "#%%\n"
    }
   },
   "outputs": [
    {
     "name": "stdout",
     "output_type": "stream",
     "text": [
      "CPU times: user 47.1 s, sys: 123 ms, total: 47.2 s\n",
      "Wall time: 47.4 s\n"
     ]
    }
   ],
   "source": [
    "%%time\n",
    "n = 1 #15\n",
    "epsilon_start = 0.65\n",
    "epsilon_end = 1.2\n",
    "\n",
    "switchAlgorytm = {\n",
    "  'dbscan': lambda : dbscan(tweet_vector, epsilon_start, epsilon_end, n),\n",
    "  'dbscan_sklearn': lambda : dbscan_sklearn(tweet_vector, epsilon_start, epsilon_end, n),\n",
    "  'tidbscan': lambda : tidbscan(tweet_vector, epsilon_start, epsilon_end, n),\n",
    "  'swdbscan': lambda : swdbscan(tweet_vector, epsilon_start, epsilon_end, n),\n",
    "  'sw_tidbscan': None\n",
    "}\n",
    "\n",
    "results = switchAlgorytm[ALGORYTHMS[chosen_algorythm]]()"
   ]
  },
  {
   "cell_type": "markdown",
   "metadata": {},
   "source": [
    "## 4.0 Saving data"
   ]
  },
  {
   "cell_type": "code",
   "execution_count": null,
   "metadata": {},
   "outputs": [],
   "source": [
    "# dataToSave = [tweets, class_vector, tweet_vector, results, epsilon_start, epsilon_end, n, distances]  \n",
    "# import sys\n",
    "# sys.setrecursionlimit(3895)\n",
    "# save_data(dataToSave, 'dump/teee.data')"
   ]
  },
  {
   "cell_type": "markdown",
   "metadata": {},
   "source": [
    "### 4 Results"
   ]
  },
  {
   "cell_type": "markdown",
   "metadata": {
    "pycharm": {
     "name": "#%% md\n"
    }
   },
   "source": [
    "Create dataframe from results to visualise it\n"
   ]
  },
  {
   "cell_type": "code",
   "execution_count": 5,
   "metadata": {
    "pycharm": {
     "name": "#%%\n"
    }
   },
   "outputs": [
    {
     "name": "stdout",
     "output_type": "stream",
     "text": [
      "CPU times: user 25.1 ms, sys: 1.02 ms, total: 26.1 ms\n",
      "Wall time: 26.8 ms\n"
     ]
    }
   ],
   "source": [
    "%%time\n",
    "if chosen_algorythm == 1:\n",
    "    df = get_df_for_test_results(results, class_vector, epsilon_start, epsilon_end, n)\n",
    "elif chosen_algorythm in {0, 2}:\n",
    "    df = get_df_for_results(results, class_vector, epsilon_start, epsilon_end, n)"
   ]
  },
  {
   "cell_type": "markdown",
   "metadata": {
    "pycharm": {
     "name": "#%% md\n"
    }
   },
   "source": [
    "### Visualisation\n",
    "Plot all clusture for diffrent sigma"
   ]
  },
  {
   "cell_type": "markdown",
   "metadata": {
    "pycharm": {
     "name": "#%%\n"
    }
   },
   "source": [
    "%%time\n",
    "ax = df.plot.hist(bins=60, alpha=0.5, legend=False)\n",
    "ax.plot()\n",
    "plt.show()"
   ]
  },
  {
   "cell_type": "code",
   "execution_count": 6,
   "metadata": {
    "pycharm": {
     "name": "#%%\n"
    }
   },
   "outputs": [
    {
     "name": "stdout",
     "output_type": "stream",
     "text": [
      "CPU times: user 7 µs, sys: 1e+03 ns, total: 8 µs\n",
      "Wall time: 15.3 µs\n"
     ]
    }
   ],
   "source": [
    "%%time\n",
    "#a = df.hist(bins=60, alpha=1, legend=False, figsize=(60,n*4), layout=(n,11))"
   ]
  },
  {
   "cell_type": "markdown",
   "metadata": {
    "pycharm": {
     "name": "#%% md\n"
    }
   },
   "source": [
    "### Clustering evaluation\n"
   ]
  },
  {
   "cell_type": "markdown",
   "metadata": {},
   "source": [
    "#### Silhouette Score"
   ]
  },
  {
   "cell_type": "code",
   "execution_count": 9,
   "metadata": {},
   "outputs": [],
   "source": [
    "silhouette = get_silhouette_score_xdbscan(results)"
   ]
  },
  {
   "cell_type": "code",
   "execution_count": 8,
   "metadata": {},
   "outputs": [],
   "source": [
    "if chosen_algorythm == 1:\n",
    "    silhouette = get_silhouette_score_dbscan_sklearn(results, tweet_vector)\n",
    "elif chosen_algorythm in {0, 2}:\n",
    "    silhouette = get_silhouette_score_xdbscan(results)"
   ]
  },
  {
   "cell_type": "code",
   "execution_count": 10,
   "metadata": {},
   "outputs": [
    {
     "data": {
      "text/plain": [
       "[-0.036604535]"
      ]
     },
     "execution_count": 10,
     "metadata": {},
     "output_type": "execute_result"
    }
   ],
   "source": [
    "silhouette"
   ]
  },
  {
   "cell_type": "markdown",
   "metadata": {},
   "source": [
    "#### Purity Score"
   ]
  },
  {
   "cell_type": "code",
   "execution_count": null,
   "metadata": {
    "pycharm": {
     "name": "#%%\n"
    }
   },
   "outputs": [],
   "source": [
    "if chosen_algorythm == 1:\n",
    "    sc = get_purity_for_dbscan_sklearn(class_vector, results, len(results))\n",
    "elif chosen_algorythm in {0, 2}:\n",
    "    sc = get_purity_for_xdbscan(class_vector, results, len(results))\n",
    "\n",
    "epsilons = get_epsilon_array(epsilon_start, epsilon_end, n)\n",
    "\n",
    "\n",
    "plt.plot(epsilons, sc, 'ro')\n",
    "plt.axis([0.1, 2, 0, 1])\n",
    "plt.xlabel(\"Epsilon\")\n",
    "plt.ylabel(\"Purity\")\n",
    "plt.show()\n",
    "\n",
    "max_purity=max(sc)\n",
    "eps_for_max_purity=epsilons[sc.index(max_purity)]\n",
    "print(\"Max purity score is P={}, for epsilon={}. \".format(round(max_purity,3), eps_for_max_purity))"
   ]
  },
  {
   "cell_type": "code",
   "execution_count": null,
   "metadata": {
    "pycharm": {
     "name": "#%%\n"
    }
   },
   "outputs": [],
   "source": [
    "gr = get_all_groups_in_result(results, sc.index(max_purity), tweets)\n",
    "[group_id,number_of_points,indexes_of_points,list_of_tweets, stats,  points] = gr"
   ]
  },
  {
   "cell_type": "code",
   "execution_count": null,
   "metadata": {
    "pycharm": {
     "name": "#%%\n"
    }
   },
   "outputs": [],
   "source": [
    "fig = plt.figure()\n",
    "ax = fig.add_subplot(111)\n",
    "\n",
    "ax.plot(group_id, stats[\"med_sent_length\"],'*', alpha=0.5)\n",
    "ax.bar(group_id, number_of_points, alpha=0.5)\n",
    "ax.plot(group_id, stats[\"min_sent_length\"],'v', alpha=0.5)\n",
    "ax.plot(group_id, stats[\"max_sent_length\"],'^', alpha=0.5)\n",
    "ax.set_xlabel(\"Id grupy\")\n",
    "ax.set_ylabel(\"Liczność\")\n",
    "fig.legend([\"Mediana długości zdania\", \"Min długość zdania\",\"Max długość zdania\",\"Histogram\"])\n",
    "fig.savefig('filename.png', dpi=900)\n",
    "plt.show()"
   ]
  },
  {
   "cell_type": "code",
   "execution_count": null,
   "metadata": {
    "pycharm": {
     "name": "#%%\n"
    }
   },
   "outputs": [],
   "source": [
    "for num in range(len(list_of_tweets)):\n",
    "    print('\\033[1m' + \"Here is list of {} tweets for group_nr={}\".format(len(list_of_tweets[num]),num-1)+'\\033[0m')\n",
    "    a = [print(tw + \"\\n\") for tw in list_of_tweets[num]]\n",
    "    print(\"\\n\\n\\n\")\n"
   ]
  }
 ],
 "metadata": {
  "kernelspec": {
   "display_name": "Python 3",
   "language": "python",
   "name": "python3"
  },
  "language_info": {
   "codemirror_mode": {
    "name": "ipython",
    "version": 3
   },
   "file_extension": ".py",
   "mimetype": "text/x-python",
   "name": "python",
   "nbconvert_exporter": "python",
   "pygments_lexer": "ipython3",
   "version": "3.8.8"
  }
 },
 "nbformat": 4,
 "nbformat_minor": 1
}