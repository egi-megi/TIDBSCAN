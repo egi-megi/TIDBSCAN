{
 "cells": [
  {
   "cell_type": "markdown",
   "metadata": {
    "pycharm": {
     "name": "#%%\n"
    }
   },
   "source": [
    "### Import all necessary files"
   ]
  },
  {
   "cell_type": "code",
   "execution_count": 1,
   "metadata": {
    "pycharm": {
     "name": "#%%\n"
    }
   },
   "outputs": [],
   "source": [
    "import matplotlib.pyplot as plt\n",
    "\n",
    "from tweets import *"
   ]
  },
  {
   "cell_type": "markdown",
   "source": [
    "### 0 Read earlier computed data"
   ],
   "metadata": {
    "collapsed": false,
    "pycharm": {
     "name": "#%% md\n"
    }
   },
   "execution_count": 2
  },
  {
   "cell_type": "code",
   "execution_count": 2,
   "outputs": [],
   "source": [
    "# Read choosen dataset and go straight to -> 4 Results <-\n",
    "# dataset = ['dbscan_11x50.data', 'tidbscan_11x50.data', 'tidbscan_11xall.data']\n",
    "# test_method = True\n",
    "#\n",
    "# d = read_computed_data(dataset[1])\n",
    "# tweets, class_vector, tweet_vector, results, epsilon_start, epsilon_end, n, distances = d"
   ],
   "metadata": {
    "collapsed": false,
    "pycharm": {
     "name": "#%%\n"
    }
   }
  },
  {
   "cell_type": "markdown",
   "metadata": {
    "pycharm": {
     "name": "#%% md\n"
    }
   },
   "source": [
    "### 1 Get vectors from table of tweets"
   ]
  },
  {
   "cell_type": "code",
   "execution_count": 3,
   "metadata": {
    "pycharm": {
     "name": "#%%\n"
    }
   },
   "outputs": [],
   "source": [
    "# DBSCAN set True, TIDBSCAN set False\n",
    "test_method = False\n",
    "# tweets = read_all_tweets(DATA)\n",
    "tweets, class_vector = read_n_tweets_from_data(DATA, 50) # Provide number of tweets per account\n",
    "tweet_vector = np.array(get_vectors(tweets))"
   ]
  },
  {
   "cell_type": "markdown",
   "metadata": {
    "pycharm": {
     "name": "#%% md\n"
    }
   },
   "source": [
    "### 2 Find out epsilon\n",
    "Find out epsilon by looking at distribution of max, min, median euclidean distances between all points."
   ]
  },
  {
   "cell_type": "code",
   "execution_count": 4,
   "metadata": {
    "pycharm": {
     "name": "#%%\n"
    }
   },
   "outputs": [
    {
     "name": "stdout",
     "output_type": "stream",
     "text": [
      "CPU times: user 0 ns, sys: 12 µs, total: 12 µs\n",
      "Wall time: 22.6 µs\n"
     ]
    }
   ],
   "source": [
    "%%time\n",
    "distances = None\n",
    "# distances = create_and_save_distances_list(tweet_vector, save=False) # Compute distances\n",
    "# # distances = read_distances_list() # Read previously computed distances\n",
    "# minimum, median, maximum = get_basic_statistics(distances)\n",
    "# plot_basic_statistics(minimum, median, maximum)"
   ]
  },
  {
   "cell_type": "markdown",
   "metadata": {
    "pycharm": {
     "name": "#%% md\n"
    }
   },
   "source": [
    "### 3 Group vectors for multiple epsilon\n",
    "Now after analyzing distribution of distances between points\n",
    "do clustering n times for epsilon_start and delta_epsilon parameters"
   ]
  },
  {
   "cell_type": "code",
   "execution_count": 5,
   "metadata": {
    "pycharm": {
     "name": "#%%\n"
    }
   },
   "outputs": [
    {
     "name": "stdout",
     "output_type": "stream",
     "text": [
      "CPU times: user 24min 3s, sys: 71.8 ms, total: 24min 3s\n",
      "Wall time: 24min 8s\n"
     ]
    }
   ],
   "source": [
    "%%time\n",
    "n = 15\n",
    "epsilon_start = 0.65\n",
    "epsilon_end = 1.2\n",
    "\n",
    "if test_method:\n",
    "    results = get_results_for_multiple_eps_not_our_implementation(tweet_vector, epsilon_start, epsilon_end, n)\n",
    "else:\n",
    "    results = get_results_for_multiple_eps(tweet_vector, epsilon_start, epsilon_end, n)"
   ]
  },
  {
   "cell_type": "markdown",
   "metadata": {},
   "source": [
    "### 4 Results"
   ]
  },
  {
   "cell_type": "markdown",
   "metadata": {
    "pycharm": {
     "name": "#%% md\n"
    }
   },
   "source": [
    "Create dataframe from results to visualise it"
   ]
  },
  {
   "cell_type": "code",
   "execution_count": 6,
   "metadata": {
    "pycharm": {
     "name": "#%%\n"
    }
   },
   "outputs": [],
   "source": [
    "data = [tweets, class_vector, tweet_vector, results, epsilon_start, epsilon_end, n, distances]\n",
    "path = 'dump/dbscan_11x50.data'\n",
    "save_data(data,path)"
   ]
  },
  {
   "cell_type": "code",
   "execution_count": 7,
   "outputs": [
    {
     "name": "stdout",
     "output_type": "stream",
     "text": [
      "CPU times: user 559 ms, sys: 2.99 ms, total: 562 ms\n",
      "Wall time: 562 ms\n"
     ]
    }
   ],
   "source": [
    "%%time\n",
    "if test_method:\n",
    "    df = get_df_for_test_results(results, class_vector, epsilon_start, epsilon_end, n)\n",
    "else:\n",
    "    df = get_df_for_results(results, class_vector, epsilon_start, epsilon_end, n)"
   ],
   "metadata": {
    "collapsed": false,
    "pycharm": {
     "name": "#%%\n"
    }
   }
  },
  {
   "cell_type": "markdown",
   "metadata": {
    "pycharm": {
     "name": "#%% md\n"
    }
   },
   "source": [
    "### Visualisation\n",
    "Plot all clusture for diffrent sigma"
   ]
  },
  {
   "cell_type": "code",
   "execution_count": 8,
   "metadata": {
    "pycharm": {
     "name": "#%%\n"
    }
   },
   "outputs": [
    {
     "data": {
      "text/plain": "<Figure size 432x288 with 1 Axes>",
      "image/png": "[encoded data removed]"
     },
     "metadata": {
      "needs_background": "light"
     },
     "output_type": "display_data"
    },
    {
     "name": "stdout",
     "output_type": "stream",
     "text": [
      "CPU times: user 17 s, sys: 93.7 ms, total: 17.1 s\n",
      "Wall time: 17.2 s\n"
     ]
    }
   ],
   "source": [
    "%%time\n",
    "ax = df.plot.hist(bins=60, alpha=0.5, legend=False)\n",
    "ax.plot()\n",
    "plt.show()"
   ]
  },
  {
   "cell_type": "code",
   "execution_count": 9,
   "metadata": {
    "pycharm": {
     "name": "#%%\n"
    }
   },
   "outputs": [
    {
     "name": "stdout",
     "output_type": "stream",
     "text": [
      "CPU times: user 5 µs, sys: 0 ns, total: 5 µs\n",
      "Wall time: 10.7 µs\n"
     ]
    }
   ],
   "source": [
    "%%time\n",
    "#a = df.hist(bins=60, alpha=1, legend=False, figsize=(60,n*4), layout=(n,11))"
   ]
  },
  {
   "cell_type": "markdown",
   "metadata": {
    "pycharm": {
     "name": "#%% md\n"
    }
   },
   "source": [
    "### Clustering evaluation\n"
   ]
  },
  {
   "cell_type": "code",
   "execution_count": 10,
   "metadata": {
    "pycharm": {
     "name": "#%%\n"
    }
   },
   "outputs": [
    {
     "data": {
      "text/plain": "<Figure size 432x288 with 1 Axes>",
      "image/png": "[encoded data removed]"
     },
     "metadata": {
      "needs_background": "light"
     },
     "output_type": "display_data"
    },
    {
     "name": "stdout",
     "output_type": "stream",
     "text": [
      "Max purity score is P=0.512, for epsilon=1.0166666666666666. \n"
     ]
    }
   ],
   "source": [
    "if test_method:\n",
    "    sc = get_purity_for_n_results_dbscan(class_vector, results, len(results))\n",
    "else:\n",
    "    sc = get_purity_for_n_results_tidbscan(class_vector, results, len(results))\n",
    "\n",
    "epsilons = get_epsilon_array(epsilon_start, epsilon_end, n)\n",
    "\n",
    "\n",
    "plt.plot(epsilons, sc, 'ro')\n",
    "plt.axis([0.1, 2, 0, 1])\n",
    "plt.xlabel(\"Epsilon\")\n",
    "plt.ylabel(\"Purity\")\n",
    "plt.show()\n",
    "\n",
    "max_purity=max(sc)\n",
    "eps_for_max_purity=epsilons[sc.index(max_purity)]\n",
    "print(\"Max purity score is P={}, for epsilon={}. \".format(round(max_purity,3), eps_for_max_purity))"
   ]
  },
  {
   "cell_type": "code",
   "execution_count": 78,
   "outputs": [],
   "source": [
    "gr = get_all_groups_in_result(results, sc.index(max_purity), tweets)\n",
    "[group_id,number_of_points,indexes_of_points,list_of_tweets, stats,  points] = gr"
   ],
   "metadata": {
    "collapsed": false,
    "pycharm": {
     "name": "#%%\n"
    }
   }
  },
  {
   "cell_type": "code",
   "execution_count": 79,
   "outputs": [
    {
     "name": "stdout",
     "output_type": "stream",
     "text": [
      "60 60 60 60\n"
     ]
    }
   ],
   "source": [],
   "metadata": {
    "collapsed": false,
    "pycharm": {
     "name": "#%%\n"
    }
   }
  },
  {
   "cell_type": "code",
   "execution_count": 120,
   "outputs": [
    {
     "data": {
      "text/plain": "<Figure size 432x288 with 1 Axes>",
      "image/png": "[encoded data removed]"
     },
     "metadata": {
      "needs_background": "light"
     },
     "output_type": "display_data"
    }
   ],
   "source": [
    "fig = plt.figure()\n",
    "ax = fig.add_subplot(111)\n",
    "\n",
    "ax.plot(group_id, stats[\"med_sent_length\"],'*', alpha=0.5)\n",
    "ax.bar(group_id, number_of_points, alpha=0.5)\n",
    "ax.plot(group_id, stats[\"min_sent_length\"],'v', alpha=0.5)\n",
    "ax.plot(group_id, stats[\"max_sent_length\"],'^', alpha=0.5)\n",
    "ax.set_xlabel(\"Id grupy\")\n",
    "ax.set_ylabel(\"Liczność\")\n",
    "fig.legend([\"Mediana długości zdania\", \"Min długość zdania\",\"Max długość zdania\",\"Histogram\"])\n",
    "fig.savefig('filename.png', dpi=900)\n",
    "plt.show()"
   ],
   "metadata": {
    "collapsed": false,
    "pycharm": {
     "name": "#%%\n"
    }
   }
  },
  {
   "cell_type": "code",
   "execution_count": 110,
   "outputs": [],
   "source": [],
   "metadata": {
    "collapsed": false,
    "pycharm": {
     "name": "#%%\n"
    }
   }
  }
 ],
 "metadata": {
  "kernelspec": {
   "display_name": "Python 3",
   "language": "python",
   "name": "python3"
  },
  "language_info": {
   "codemirror_mode": {
    "name": "ipython",
    "version": 3
   },
   "file_extension": ".py",
   "mimetype": "text/x-python",
   "name": "python",
   "nbconvert_exporter": "python",
   "pygments_lexer": "ipython3",
   "version": "3.8.8"
  }
 },
 "nbformat": 4,
 "nbformat_minor": 1
}